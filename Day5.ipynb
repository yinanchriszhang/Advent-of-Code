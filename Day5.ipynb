{
 "cells": [
  {
   "cell_type": "code",
   "execution_count": 1,
   "metadata": {},
   "outputs": [],
   "source": [
    "#Library\n",
    "\n",
    "import pandas as pd\n",
    "import re"
   ]
  },
  {
   "cell_type": "code",
   "execution_count": 169,
   "metadata": {},
   "outputs": [],
   "source": [
    "def clean_stack(stacks_raw):\n",
    "    \n",
    "    #extraction the crate data into lists\n",
    "    \n",
    "    stack_clean = []\n",
    "    for row in stacks_raw:\n",
    "        position = 1\n",
    "        row_clean = []\n",
    "        while position < len(row):\n",
    "            row_clean.append(row[position])\n",
    "            position +=4\n",
    "        stack_clean.append(row_clean[::-1])\n",
    "\n",
    "    # Readjust the data to create list of lists where the first list represent the first stack, second list represent the second stack etc\n",
    "\n",
    "    data = []\n",
    "    for j in range(1,10):\n",
    "        list = []\n",
    "        for i in range(8):\n",
    "            #print(stack_clean[i][-j])\n",
    "            if stack_clean[i][-j] != ' ':\n",
    "                list.append(stack_clean[i][-j])\n",
    "        data.append(list[::-1])\n",
    "    return data\n",
    "\n",
    "\n",
    "#part 1\n",
    "def moving_crates(p, instructions):\n",
    "    \"\"\" credit to Goran Torlak for this piece of code to move the stacks\"\"\"\n",
    "    for row in instructions:\n",
    "        move_set = re.findall('\\d+', row)\n",
    "        #print(move_set)\n",
    "        moves = int(move_set[0])\n",
    "        start_pos = int(move_set[1]) - 1\n",
    "        end_pos = int(move_set[2]) - 1\n",
    "        for i in range(0, moves):\n",
    "            block = p[start_pos][-1 ] #block which is going to get moved\n",
    "            del p[start_pos][-1] #removing the block\n",
    "            p[end_pos].append(block) #adding the block\n",
    "    return p\n",
    "\n",
    "#part 2\n",
    "def moving_crates2(p, instructions):\n",
    "    \"\"\" credit to Goran Torlak for this piece of code to move the stacks\"\"\"\n",
    "    for row in instructions:\n",
    "        split_row = re.findall('\\d+', row)\n",
    "        qty = int(split_row[0])\n",
    "        start_pos = int(split_row[1]) - 1\n",
    "        end_pos = int(split_row[2]) - 1\n",
    "        blocks = p[start_pos][-qty:] #block(s) which is going to get moved\n",
    "        del p[start_pos][-qty:] #removing the block\n",
    "        for i in range(0,qty):\n",
    "            block = blocks[i]\n",
    "            p[end_pos].append(block) #adding the block\n",
    "    return p"
   ]
  },
  {
   "cell_type": "code",
   "execution_count": 160,
   "metadata": {},
   "outputs": [
    {
     "name": "stdout",
     "output_type": "stream",
     "text": [
      "SHMSDGZVC\n"
     ]
    }
   ],
   "source": [
    "#get the data\n",
    "stacks_raw = pd.read_table(\"Data/day5_input.txt\", header = None)[0][0:9]\n",
    "stacks = clean_stack(stacks_raw)\n",
    "instructions = pd.read_table(\"Data/day5_input.txt\", header = None)[0][9:]\n",
    "\n",
    "#Part 1 Output\n",
    "final_stacks = moving_crates(stacks, instructions)\n",
    "print(''.join([item[-1] for item in final_stacks]))"
   ]
  },
  {
   "cell_type": "code",
   "execution_count": 170,
   "metadata": {},
   "outputs": [
    {
     "name": "stdout",
     "output_type": "stream",
     "text": [
      "VRZGHDFBQ\n"
     ]
    }
   ],
   "source": [
    "#Part 2 Output\n",
    "stacks = clean_stack(stacks_raw)\n",
    "final_stacks2 = moving_crates2(stacks, instructions)\n",
    "print(''.join([item[-1] for item in final_stacks2]))"
   ]
  }
 ],
 "metadata": {
  "kernelspec": {
   "display_name": "Python 3.9.13 64-bit (microsoft store)",
   "language": "python",
   "name": "python3"
  },
  "language_info": {
   "codemirror_mode": {
    "name": "ipython",
    "version": 3
   },
   "file_extension": ".py",
   "mimetype": "text/x-python",
   "name": "python",
   "nbconvert_exporter": "python",
   "pygments_lexer": "ipython3",
   "version": "3.9.13"
  },
  "orig_nbformat": 4,
  "vscode": {
   "interpreter": {
    "hash": "888d8669b170ac4f7059dff33f5009fa9a8768c7b85cc7ae59adb194171f3296"
   }
  }
 },
 "nbformat": 4,
 "nbformat_minor": 2
}
