{
 "cells": [
  {
   "cell_type": "code",
   "execution_count": 109,
   "metadata": {},
   "outputs": [],
   "source": [
    "#Cell to call libraries\n",
    "import pandas as pd"
   ]
  },
  {
   "cell_type": "code",
   "execution_count": 114,
   "metadata": {},
   "outputs": [],
   "source": [
    "class RockPaperScissors:\n",
    "\n",
    "    import pandas as pd\n",
    "\n",
    "    def __init__(self):\n",
    "        pass\n",
    "    \n",
    "\n",
    "    def game_score(self, Opponent_choice, Player_choice):\n",
    "        \"\"\"\n",
    "        get the win/loose score based on the outcome of the game\n",
    "        required input A for Rock, B for Paper, and C for Scissors\n",
    "        for both Opponent_choice and Player_choice\n",
    "        \n",
    "        \"\"\"\n",
    "        if Opponent_choice == Player_choice:\n",
    "            return 3\n",
    "        if Opponent_choice == 'A':\n",
    "            if Player_choice == 'B':\n",
    "                #player win, paper beats rock\n",
    "                return 6\n",
    "            else:\n",
    "                #player loose\n",
    "                return 0\n",
    "        if Opponent_choice == 'B':\n",
    "            if Player_choice == 'C':\n",
    "            #player win, scissors beats paper\n",
    "                return 6\n",
    "            else:\n",
    "                #player loose\n",
    "                return 0\n",
    "        if Opponent_choice == 'C':\n",
    "            if Player_choice == 'A':\n",
    "            #player win, rock beats scissors\n",
    "                return 6\n",
    "            else:\n",
    "                #player loose\n",
    "                return 0\n",
    "    \n",
    "    def get_score(self, Opponent_choice, Player_choice):\n",
    "        \"\"\"\n",
    "        get the hand played component of the strategy:\n",
    "        1 for Rock, 2 for Paper, and 3 for Scissors\n",
    "\n",
    "        \"\"\"\n",
    "        #set the play component of the strategy\n",
    "        points = {'A':1, 'B':2, 'C':3}\n",
    "        play_score = points[Player_choice]\n",
    "        #adding on the game component of the score\n",
    "        score = self.game_score(Opponent_choice, Player_choice) + play_score\n",
    "        return score\n",
    "    \n",
    "    def process_score(self, input):\n",
    "        \"\"\"\n",
    "        Intterate over the input\n",
    "        Input required to be a pandas dataframe with two columns.   \n",
    "        \n",
    "        \"\"\"\n",
    "        # calculate the score\n",
    "        total_score = 0\n",
    "        for index, row in input.iterrows():\n",
    "            Opponent_choice = row[0]\n",
    "            Player_choice = row[1]\n",
    "            total_score += self.get_score(Opponent_choice, Player_choice)\n",
    "        return total_score"
   ]
  },
  {
   "cell_type": "code",
   "execution_count": 115,
   "metadata": {},
   "outputs": [],
   "source": [
    "#clean the data\n",
    "\n",
    "data = pd.read_table('Data/day2_input.txt', sep = ' ', header = None)\n",
    "# clean the data by conforming the game to A for Rock, B for paper and C for scissors\n",
    "data.replace({'X':'A', 'Y':'B', 'Z':'C'}, inplace= True)"
   ]
  },
  {
   "cell_type": "code",
   "execution_count": 116,
   "metadata": {},
   "outputs": [
    {
     "data": {
      "text/plain": [
       "13484"
      ]
     },
     "execution_count": 116,
     "metadata": {},
     "output_type": "execute_result"
    }
   ],
   "source": [
    "#Get your total score be if everything goes exactly according to your strategy guide? \n",
    "\n",
    "x = RockPaperScissors()\n",
    "x.process_score(data)\n"
   ]
  },
  {
   "cell_type": "code",
   "execution_count": 146,
   "metadata": {},
   "outputs": [],
   "source": [
    "data2 = pd.read_table('Data/day2_input.txt', sep = ' ', header = None)\n",
    "# clean the data by conforming the game to A for Rock, B for paper and C for scissors"
   ]
  },
  {
   "cell_type": "code",
   "execution_count": 152,
   "metadata": {},
   "outputs": [],
   "source": [
    "def get_score2(result, Opponent_choice):\n",
    "    points = {'A':1, 'B':2, 'C':3}\n",
    "    win_dict = {'A':'B', 'B':'C', 'C':'A'}\n",
    "    draw_dict = {'A':'A', 'B':'B', 'C':'C'}\n",
    "    loose_dict = {'A':'C', 'B':'A', 'C':'B'}\n",
    "    if result == 'X':\n",
    "        game_score = 6\n",
    "        #since to win, then based on the hand of the opponent\n",
    "        Player_choice = win_dict[Opponent_choice]\n",
    "    elif result == 'Y':\n",
    "        game_score = 3\n",
    "        Player_choice = draw_dict[Opponent_choice]\n",
    "    else:\n",
    "        game_score = 0\n",
    "        Player_choice = loose_dict[Opponent_choice]\n",
    "    #print(Player_choice)\n",
    "    play_score = points[Player_choice]\n",
    "    #print(f\"{play_score} + {game_score}\")\n",
    "    #print(play_score + game_score)\n",
    "    return play_score + game_score\n",
    "\n",
    "def process_score2(data2):\n",
    "# calculate the score\n",
    "    total_score = 0\n",
    "    for _, row in data2.iterrows():\n",
    "        result = row[1]\n",
    "        Opponent_choice = row[0]\n",
    "        #print(result, Opponent_choice)\n",
    "        total_score += get_score2(result, Opponent_choice)\n",
    "        #print(total_score)\n",
    "    return total_score\n"
   ]
  },
  {
   "cell_type": "code",
   "execution_count": 154,
   "metadata": {},
   "outputs": [
    {
     "data": {
      "text/plain": [
       "11852"
      ]
     },
     "execution_count": 154,
     "metadata": {},
     "output_type": "execute_result"
    }
   ],
   "source": [
    "# Part Two\n",
    "\n",
    "process_score2(data2)"
   ]
  }
 ],
 "metadata": {
  "kernelspec": {
   "display_name": "Python 3.9.13 64-bit (microsoft store)",
   "language": "python",
   "name": "python3"
  },
  "language_info": {
   "codemirror_mode": {
    "name": "ipython",
    "version": 3
   },
   "file_extension": ".py",
   "mimetype": "text/x-python",
   "name": "python",
   "nbconvert_exporter": "python",
   "pygments_lexer": "ipython3",
   "version": "3.9.13"
  },
  "orig_nbformat": 4,
  "vscode": {
   "interpreter": {
    "hash": "888d8669b170ac4f7059dff33f5009fa9a8768c7b85cc7ae59adb194171f3296"
   }
  }
 },
 "nbformat": 4,
 "nbformat_minor": 2
}
