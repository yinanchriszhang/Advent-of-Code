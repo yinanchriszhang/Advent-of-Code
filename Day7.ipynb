{
 "cells": [
  {
   "cell_type": "code",
   "execution_count": 1,
   "metadata": {},
   "outputs": [],
   "source": [
    "import pandas as pd"
   ]
  },
  {
   "cell_type": "code",
   "execution_count": 2,
   "metadata": {},
   "outputs": [],
   "source": [
    "# reset all data\n",
    "full_filepath = '/'\n",
    "current_directory = ''\n",
    "file_directory = pd.DataFrame()\n",
    "\n",
    "def read_txt_to_list(filepath):\n",
    "    \"\"\"read txt files into a list.   Each item in the list is a line in the txt file\"\"\"\n",
    "    with open(filepath) as input_file:\n",
    "        data = input_file.readlines()\n",
    "        data = [line.rstrip() for line in data]\n",
    "    return data\n",
    "\n",
    "def go_up_one_directory(full_filepath, current_directory):\n",
    "    \"\"\" go up one directory\"\"\"\n",
    "    position =  len(full_filepath)-len(current_directory)-1\n",
    "    full_filepath = full_filepath[0:position]\n",
    "    current_directory = full_filepath.split('/')[-1]\n",
    "    return full_filepath, current_directory\n",
    "\n",
    "def is_command(command):\n",
    "    \"\"\" check if the line is a command\"\"\"\n",
    "    if command.startswith('$ cd'):\n",
    "        return True\n",
    "    return False\n",
    "\n",
    "def record_file_attributes(command, full_filepath, file_directory):\n",
    "    if command[0].isdigit():\n",
    "        file_size, file_name = command.split(' ')\n",
    "        new_row = pd.DataFrame({'filepath': full_filepath, 'file_name':file_name, 'file_size':int(file_size)}, index =[0])\n",
    "        file_directory = pd.concat([new_row, file_directory.loc[:]]).reset_index(drop=True)\n",
    "    return file_directory\n",
    "\n",
    "def read_command(command, full_filepath, current_directory):\n",
    "\n",
    "    \"\"\" read the command.   Either returns directory to the top. or go up and down one directory \"\"\"\n",
    "    if command.endswith('cd /'):   #command to reset the diredirectory to the top\n",
    "         full_filepath = ''\n",
    "         current_directory = ''\n",
    "         return full_filepath, current_directory\n",
    "    if command.startswith('$ cd'):\n",
    "        if command.endswith('..'):\n",
    "            full_filepath, current_directory = go_up_one_directory(full_filepath, current_directory)\n",
    "            return full_filepath, current_directory\n",
    "        else:\n",
    "            current_directory = command.split(' ')[-1]\n",
    "            full_filepath += '/' + current_directory\n",
    "            return full_filepath, current_directory"
   ]
  },
  {
   "cell_type": "code",
   "execution_count": 3,
   "metadata": {},
   "outputs": [],
   "source": [
    "data = read_txt_to_list('Data/day7_input.txt')\n",
    "\n",
    "#data = read_txt_to_list('Data/day7_test.txt')"
   ]
  },
  {
   "cell_type": "code",
   "execution_count": 4,
   "metadata": {},
   "outputs": [],
   "source": [
    "# reset all data\n",
    "full_filepath = '/'\n",
    "current_directory = ''\n",
    "file_directory = pd.DataFrame()\n",
    "\n",
    "#run the commands line by line\n",
    "\n",
    "for row in data:\n",
    "    if is_command(row):\n",
    "        #print(row)\n",
    "        full_filepath, current_directory = read_command(row, full_filepath, current_directory)\n",
    "    else:\n",
    "        file_directory = record_file_attributes(row, full_filepath, file_directory)\n",
    "\n",
    "#sum all the folders\n",
    "directory_size = file_directory.sort_values('filepath')\n",
    "\n",
    "#split the directories into a column dimension for each level of directory\n",
    "split_directory = directory_size['filepath'].str.split('/',expand=True)\n",
    "split_directory['size'] = directory_size['file_size']\n",
    "clean_dir_size = split_directory.copy()\n"
   ]
  },
  {
   "cell_type": "code",
   "execution_count": 5,
   "metadata": {},
   "outputs": [
    {
     "data": {
      "text/plain": [
       "950635"
      ]
     },
     "execution_count": 5,
     "metadata": {},
     "output_type": "execute_result"
    }
   ],
   "source": [
    "part1 = pd.DataFrame(columns=['folder', 'size'])\n",
    "\n",
    "#Get a list of column names to aggregate the directories\n",
    "directory_columns = clean_dir_size.columns[:-1].values\n",
    "\n",
    "for column_name in directory_columns:\n",
    "    summed_dir_size = clean_dir_size[[column_name,'size']].groupby(column_name).sum().reset_index()\n",
    "    acceptable_folder =  summed_dir_size[summed_dir_size['size'] <= 100000]\n",
    "    acceptable_folder.columns = ['folder', 'size']\n",
    "    part1 = pd.concat([part1, acceptable_folder])\n",
    "    #print(acceptable_folder)\n",
    "\n",
    "part1['size'].sum()"
   ]
  }
 ],
 "metadata": {
  "kernelspec": {
   "display_name": "Python 3.9.13 64-bit (microsoft store)",
   "language": "python",
   "name": "python3"
  },
  "language_info": {
   "codemirror_mode": {
    "name": "ipython",
    "version": 3
   },
   "file_extension": ".py",
   "mimetype": "text/x-python",
   "name": "python",
   "nbconvert_exporter": "python",
   "pygments_lexer": "ipython3",
   "version": "3.9.13"
  },
  "orig_nbformat": 4,
  "vscode": {
   "interpreter": {
    "hash": "888d8669b170ac4f7059dff33f5009fa9a8768c7b85cc7ae59adb194171f3296"
   }
  }
 },
 "nbformat": 4,
 "nbformat_minor": 2
}
