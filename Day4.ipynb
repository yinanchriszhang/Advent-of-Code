{
 "cells": [
  {
   "cell_type": "code",
   "execution_count": 80,
   "metadata": {},
   "outputs": [],
   "source": [
    "#Library\n",
    "import pandas as pd\n",
    "\n",
    "\n",
    "def text_to_range(input_string):\n",
    "    \"\"\" \n",
    "    input a string in the format example: '32-40',\n",
    "    return a list example: [32, 33, 34, 35, 36, 37, 38, 39, 40]\n",
    "    \n",
    "    \"\"\"\n",
    "    sections_range = input_string.split('-')\n",
    "    sections = list(\n",
    "        range(\n",
    "            int(sections_range[0]), \n",
    "            int(sections_range[1])+1\n",
    "            )\n",
    "            )\n",
    "    return sections\n",
    "\n",
    "def list_contains(a, b):\n",
    "    \"\"\"check if the lists contains each other\"\"\"\n",
    "    if max(a)>= max(b) and min(a) <= min(b):\n",
    "        return 1\n",
    "    elif max(b)>= max(a) and min(b) <= min(a):\n",
    "        return 1\n",
    "    else:\n",
    "        return 0\n",
    "\n",
    "def overlaps(a, b):\n",
    "    \"\"\"check if the lists contains each other\"\"\"\n",
    "    if max(a) < min(b):\n",
    "        return 0\n",
    "    elif max(b) < min(a):\n",
    "        return 0\n",
    "    else:\n",
    "        return 1"
   ]
  },
  {
   "cell_type": "code",
   "execution_count": 81,
   "metadata": {},
   "outputs": [
    {
     "data": {
      "text/plain": [
       "556"
      ]
     },
     "execution_count": 81,
     "metadata": {},
     "output_type": "execute_result"
    }
   ],
   "source": [
    "#import data\n",
    "data = pd.read_table(\"Data/day4_input.txt\", header = None)[0]\n",
    "\n",
    "# Section 1\n",
    "counter = 0\n",
    "for item in data:\n",
    "    assignment = item.split(',')\n",
    "    #print(assignment)\n",
    "    a = text_to_range(assignment[0])\n",
    "    b = text_to_range(assignment[1])\n",
    "    #print(counter)\n",
    "    counter +=list_contains(a, b)\n",
    "counter\n"
   ]
  },
  {
   "cell_type": "code",
   "execution_count": 82,
   "metadata": {},
   "outputs": [
    {
     "data": {
      "text/plain": [
       "876"
      ]
     },
     "execution_count": 82,
     "metadata": {},
     "output_type": "execute_result"
    }
   ],
   "source": [
    "#section 2:\n",
    "\n",
    "counter = 0\n",
    "for item in data:\n",
    "    assignment = item.split(',')\n",
    "    #print(assignment)\n",
    "    a = text_to_range(assignment[0])\n",
    "    b = text_to_range(assignment[1])\n",
    "    #print(counter)\n",
    "    counter +=overlaps(a, b)\n",
    "counter"
   ]
  }
 ],
 "metadata": {
  "kernelspec": {
   "display_name": "Python 3.9.13 64-bit (microsoft store)",
   "language": "python",
   "name": "python3"
  },
  "language_info": {
   "codemirror_mode": {
    "name": "ipython",
    "version": 3
   },
   "file_extension": ".py",
   "mimetype": "text/x-python",
   "name": "python",
   "nbconvert_exporter": "python",
   "pygments_lexer": "ipython3",
   "version": "3.9.13"
  },
  "orig_nbformat": 4,
  "vscode": {
   "interpreter": {
    "hash": "888d8669b170ac4f7059dff33f5009fa9a8768c7b85cc7ae59adb194171f3296"
   }
  }
 },
 "nbformat": 4,
 "nbformat_minor": 2
}
