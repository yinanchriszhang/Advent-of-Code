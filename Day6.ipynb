{
 "cells": [
  {
   "cell_type": "code",
   "execution_count": 31,
   "metadata": {},
   "outputs": [],
   "source": [
    "#importing the input data - datatype: String\n",
    "data = open('Data/day6_input.txt').read()\n",
    "\n",
    "def has_repeated_chars(string):\n",
    "    \"\"\"Checking each letter of the string for duplicates.  Any letter have a duplicate, function returns True, else False\"\"\"\n",
    "    for char in string:\n",
    "        if string.count(char) > 1:\n",
    "            return True\n",
    "    return False\n",
    "\n",
    "#part 1\n",
    "marker = 4\n",
    "while has_repeated_chars(data[(marker-4):marker]):\n",
    "    marker +=1\n",
    "marker"
   ]
  },
  {
   "cell_type": "code",
   "execution_count": 32,
   "metadata": {},
   "outputs": [],
   "source": [
    "#part 2\n",
    "marker = 14\n",
    "while has_repeated_chars(data[(marker-14):marker]):\n",
    "    marker +=1\n",
    "marker\n"
   ]
  }
 ],
 "metadata": {
  "kernelspec": {
   "display_name": "Python 3.9.13 64-bit (microsoft store)",
   "language": "python",
   "name": "python3"
  },
  "language_info": {
   "codemirror_mode": {
    "name": "ipython",
    "version": 3
   },
   "file_extension": ".py",
   "mimetype": "text/x-python",
   "name": "python",
   "nbconvert_exporter": "python",
   "pygments_lexer": "ipython3",
   "version": "3.9.13"
  },
  "orig_nbformat": 4,
  "vscode": {
   "interpreter": {
    "hash": "888d8669b170ac4f7059dff33f5009fa9a8768c7b85cc7ae59adb194171f3296"
   }
  }
 },
 "nbformat": 4,
 "nbformat_minor": 2
}
