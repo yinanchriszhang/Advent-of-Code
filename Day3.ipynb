{
 "cells": [
  {
   "cell_type": "code",
   "execution_count": 1,
   "metadata": {},
   "outputs": [
    {
     "data": {
      "text/plain": [
       "7848"
      ]
     },
     "execution_count": 1,
     "metadata": {},
     "output_type": "execute_result"
    }
   ],
   "source": [
    "#library\n",
    "import pandas as pd\n",
    "import string\n",
    "\n",
    "#import data\n",
    "data = pd.read_table(\"Data/day3_input.txt\", header = None)[0]\n",
    "\n",
    "#part One\n",
    "\n",
    "def split_string(string, number_of_chuncks =2):\n",
    "    \"\"\"Split string into number of chuncks (default is two).  expect string as an input\"\"\"\n",
    "    str = string\n",
    "    n = int(len(str)/number_of_chuncks)\n",
    "    chunks = [str[i:i+n] for i in range(0, len(str), n)]\n",
    "    return chunks\n",
    "\n",
    "def identify_duplicate_items(a,b):\n",
    "    \"\"\" compare one string with another, one letter at a time, to get the item type that appears in both compartments\"\"\"\n",
    "    duplicate = []\n",
    "    for i in a:\n",
    "        for j in b:\n",
    "            #print(i+j)\n",
    "            if i == j:\n",
    "                duplicate.append(i)\n",
    "    return list(set(duplicate))\n",
    "\n",
    "#generate the priority dictionary\n",
    "priority = {}\n",
    "for ranking, char in enumerate(string.ascii_lowercase):\n",
    "    priority[char] = ranking +1\n",
    "\n",
    "for ranking, char in enumerate(string.ascii_uppercase):\n",
    "    priority[char] = ranking +27\n",
    "\n",
    "def day3(data):\n",
    "    priority_list = []\n",
    "    for sack in data:\n",
    "        [a,b] = split_string(sack)\n",
    "        list_of_duplicate = identify_duplicate_items(a,b)\n",
    "        #list_of_duplicate = list(set(list_of_duplicate))\n",
    "        for i in list_of_duplicate:\n",
    "            priority_list.append(priority[i])\n",
    "    return priority_list\n",
    "\n",
    "sum(day3(data))"
   ]
  },
  {
   "cell_type": "code",
   "execution_count": 2,
   "metadata": {},
   "outputs": [
    {
     "data": {
      "text/plain": [
       "2616"
      ]
     },
     "execution_count": 2,
     "metadata": {},
     "output_type": "execute_result"
    }
   ],
   "source": [
    "#part Two\n",
    "\n",
    "#regroup data into groups of three\n",
    "def regroup_list(data, group_size = 3):\n",
    "    list_of_groups = zip(*[iter(data),] * group_size)\n",
    "    return list(list_of_groups)\n",
    "\n",
    "data2 = regroup_list(data)\n",
    "\n",
    "\n",
    "#use function defined in part1 to get the common letter in all three sacks\n",
    "def get_common_item(group):\n",
    "    \"\"\"group is a list of three strings.   Returns common letter from the three strings\"\"\"\n",
    "    x = identify_duplicate_items(group[0], group[1])\n",
    "    return identify_duplicate_items(x, group[2])\n",
    "\n",
    "#iterate through each list to get the badge, assign the ranking generated previouly and calculate the sum of all the ranking\n",
    "def day3_2(data):\n",
    "    priority_list = []\n",
    "    for group in data:\n",
    "        group = list(group)\n",
    "        badge = get_common_item(group)[0]\n",
    "        print\n",
    "        #list_of_duplicate = list(set(list_of_duplicate))\n",
    "        priority_list.append(priority[badge])\n",
    "    return priority_list\n",
    "\n",
    "sum(day3_2(data2))"
   ]
  }
 ],
 "metadata": {
  "kernelspec": {
   "display_name": "Python 3.9.13 64-bit (microsoft store)",
   "language": "python",
   "name": "python3"
  },
  "language_info": {
   "codemirror_mode": {
    "name": "ipython",
    "version": 3
   },
   "file_extension": ".py",
   "mimetype": "text/x-python",
   "name": "python",
   "nbconvert_exporter": "python",
   "pygments_lexer": "ipython3",
   "version": "3.9.13"
  },
  "orig_nbformat": 4,
  "vscode": {
   "interpreter": {
    "hash": "888d8669b170ac4f7059dff33f5009fa9a8768c7b85cc7ae59adb194171f3296"
   }
  }
 },
 "nbformat": 4,
 "nbformat_minor": 2
}
