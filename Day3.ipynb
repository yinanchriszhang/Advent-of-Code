{
 "cells": [
  {
   "cell_type": "code",
   "execution_count": 1,
   "metadata": {},
   "outputs": [],
   "source": [
    "#library\n",
    "import pandas as pd"
   ]
  },
  {
   "cell_type": "code",
   "execution_count": 6,
   "metadata": {},
   "outputs": [],
   "source": [
    "data = pd.read_table(\"Data/day3_input.txt\", header = None)[0]"
   ]
  },
  {
   "cell_type": "code",
   "execution_count": 7,
   "metadata": {},
   "outputs": [
    {
     "data": {
      "text/plain": [
       "0      dtddvvhwttHJhwdhJPddhwJGppmGjgpQgTjQplQpTljwpg\n",
       "1    BfzSzRSVVMVNRMDDNBSNSnfBmbrglGQbmNpQggFjpgpbQlQb\n",
       "2                                  ZSBffLnVZdCCPJjhhL\n",
       "3                                RGCZpWWWFlHQQbgvFssg\n",
       "4                  jLnMzjnrnjjNjhrjdwbHscsVVgDVQPvPwh\n",
       "Name: 0, dtype: object"
      ]
     },
     "execution_count": 7,
     "metadata": {},
     "output_type": "execute_result"
    }
   ],
   "source": [
    "data.head()"
   ]
  },
  {
   "cell_type": "code",
   "execution_count": 8,
   "metadata": {},
   "outputs": [],
   "source": [
    "sack = data[0]"
   ]
  },
  {
   "cell_type": "code",
   "execution_count": 30,
   "metadata": {},
   "outputs": [],
   "source": [
    "def split_string(string, number_of_chuncks =2):\n",
    "    \"\"\"Split string into number of chuncks (default is two).  expect string as an input\"\"\"\n",
    "    str = string\n",
    "    n = int(len(str)/number_of_chuncks)\n",
    "    chunks = [str[i:i+n] for i in range(0, len(str), n)]\n",
    "    return chunks\n",
    "\n",
    "[a,b] = split_string(sack)"
   ]
  },
  {
   "cell_type": "code",
   "execution_count": 39,
   "metadata": {},
   "outputs": [
    {
     "data": {
      "text/plain": [
       "['w', 'w', 'w']"
      ]
     },
     "execution_count": 39,
     "metadata": {},
     "output_type": "execute_result"
    }
   ],
   "source": [
    "def identify_duplicate_items(a,b):\n",
    "    \"\"\" compare one string with another, one letter at a time, to get the item type that appears in both compartments\"\"\"\n",
    "    duplicate = []\n",
    "    for i in a:\n",
    "        for j in b:\n",
    "            #print(i+j)\n",
    "            if i == j:\n",
    "                duplicate.append(i)\n",
    "    return duplicate\n",
    "\n",
    "list_of_duplicate = identify_duplicate_items(a,b)\n",
    "list_of_duplicate"
   ]
  },
  {
   "cell_type": "code",
   "execution_count": 49,
   "metadata": {},
   "outputs": [],
   "source": [
    "#generate the priority dictionary\n",
    "\n",
    "import string\n",
    "priority = {}\n",
    "for ranking, char in enumerate(string.ascii_lowercase):\n",
    "    priority[char] = ranking +1\n",
    "\n",
    "for ranking, char in enumerate(string.ascii_uppercase):\n",
    "    priority[char] = ranking +27\n",
    "\n",
    "priority"
   ]
  },
  {
   "cell_type": "code",
   "execution_count": 54,
   "metadata": {},
   "outputs": [
    {
     "name": "stdout",
     "output_type": "stream",
     "text": [
      "w\n",
      "23\n",
      "w\n",
      "23\n",
      "w\n",
      "23\n"
     ]
    }
   ],
   "source": [
    "for i in list_of_duplicate:\n",
    "    print(i)\n",
    "    print(priority[i])"
   ]
  },
  {
   "cell_type": "code",
   "execution_count": 60,
   "metadata": {},
   "outputs": [
    {
     "ename": "TypeError",
     "evalue": "total_priority() missing 1 required positional argument: 'item_list'",
     "output_type": "error",
     "traceback": [
      "\u001b[1;31m---------------------------------------------------------------------------\u001b[0m",
      "\u001b[1;31mTypeError\u001b[0m                                 Traceback (most recent call last)",
      "\u001b[1;32mc:\\Users\\chris.zhang\\OneDrive - Judo\\Documents\\Projects\\Advent of Code\\Day3.ipynb Cell 9\u001b[0m in \u001b[0;36m<cell line: 55>\u001b[1;34m()\u001b[0m\n\u001b[0;32m     <a href='vscode-notebook-cell:/c%3A/Users/chris.zhang/OneDrive%20-%20Judo/Documents/Projects/Advent%20of%20Code/Day3.ipynb#X14sZmlsZQ%3D%3D?line=51'>52</a>\u001b[0m     \u001b[39mreturn\u001b[39;00m total_priority(group_badges)\n\u001b[0;32m     <a href='vscode-notebook-cell:/c%3A/Users/chris.zhang/OneDrive%20-%20Judo/Documents/Projects/Advent%20of%20Code/Day3.ipynb#X14sZmlsZQ%3D%3D?line=54'>55</a>\u001b[0m \u001b[39mif\u001b[39;00m \u001b[39m__name__\u001b[39m \u001b[39m==\u001b[39m \u001b[39m'\u001b[39m\u001b[39m__main__\u001b[39m\u001b[39m'\u001b[39m:\n\u001b[1;32m---> <a href='vscode-notebook-cell:/c%3A/Users/chris.zhang/OneDrive%20-%20Judo/Documents/Projects/Advent%20of%20Code/Day3.ipynb#X14sZmlsZQ%3D%3D?line=55'>56</a>\u001b[0m     \u001b[39mprint\u001b[39m(part_one())\n\u001b[0;32m     <a href='vscode-notebook-cell:/c%3A/Users/chris.zhang/OneDrive%20-%20Judo/Documents/Projects/Advent%20of%20Code/Day3.ipynb#X14sZmlsZQ%3D%3D?line=56'>57</a>\u001b[0m     \u001b[39mprint\u001b[39m(part_two())\n",
      "\u001b[1;32mc:\\Users\\chris.zhang\\OneDrive - Judo\\Documents\\Projects\\Advent of Code\\Day3.ipynb Cell 9\u001b[0m in \u001b[0;36mpart_one\u001b[1;34m()\u001b[0m\n\u001b[0;32m     <a href='vscode-notebook-cell:/c%3A/Users/chris.zhang/OneDrive%20-%20Judo/Documents/Projects/Advent%20of%20Code/Day3.ipynb#X14sZmlsZQ%3D%3D?line=30'>31</a>\u001b[0m     overlap_item \u001b[39m=\u001b[39m \u001b[39mset\u001b[39m(rucksack[:compartment_size]) \u001b[39m&\u001b[39m \u001b[39mset\u001b[39m(rucksack[compartment_size:])\n\u001b[0;32m     <a href='vscode-notebook-cell:/c%3A/Users/chris.zhang/OneDrive%20-%20Judo/Documents/Projects/Advent%20of%20Code/Day3.ipynb#X14sZmlsZQ%3D%3D?line=31'>32</a>\u001b[0m     rucksack_overlap\u001b[39m.\u001b[39mappend(overlap_item\u001b[39m.\u001b[39mpop())\n\u001b[1;32m---> <a href='vscode-notebook-cell:/c%3A/Users/chris.zhang/OneDrive%20-%20Judo/Documents/Projects/Advent%20of%20Code/Day3.ipynb#X14sZmlsZQ%3D%3D?line=33'>34</a>\u001b[0m \u001b[39mreturn\u001b[39;00m total_priority(rucksack_overlap)\n",
      "\u001b[1;31mTypeError\u001b[0m: total_priority() missing 1 required positional argument: 'item_list'"
     ]
    }
   ],
   "source": [
    "with open('Data/day3_input.txt') as input_file:\n",
    "    rucksacks = []\n",
    "    for line in input_file:\n",
    "        line = line.strip()\n",
    "        rucksacks.append(line)\n",
    "      \n",
    "\n",
    "#%%\n",
    "def total_priority(self, item_list):\n",
    "    '''Returns the sum of priorities from a list of item codes.'''\n",
    "    total = 0\n",
    "\n",
    "    for item in self.item_list:\n",
    "        char_num = ord(item)\n",
    "        priority = 0\n",
    "\n",
    "        if str.islower(self.item):\n",
    "            priority = char_num - 96\n",
    "        elif str.isupper(self.item):\n",
    "            priority = char_num - 38\n",
    "\n",
    "        total += priority\n",
    "    \n",
    "    return total\n",
    "\n",
    "\n",
    "def part_one():\n",
    "    rucksack_overlap = []\n",
    "    for rucksack in rucksacks:\n",
    "        compartment_size = int(len(rucksack)/2)\n",
    "        overlap_item = set(rucksack[:compartment_size]) & set(rucksack[compartment_size:])\n",
    "        rucksack_overlap.append(overlap_item.pop())\n",
    "          \n",
    "    return total_priority(rucksack_overlap)\n",
    "\n",
    "def part_two():\n",
    "    group_starts = range(0, len(rucksacks), 3) # list of points where groups start in input\n",
    "    \n",
    "    # list of grouped rucksacks\n",
    "    groups = []\n",
    "    for start in group_starts:\n",
    "        group = rucksacks[start:start+3]\n",
    "        groups.append(group)\n",
    "\n",
    "    # list of badge types from grouped rucksacks\n",
    "    group_badges = []\n",
    "    for group in groups:\n",
    "        group = [set(rucksack) for rucksack in group]\n",
    "        badge = group[0] & group[1] & group[2]\n",
    "        group_badges.append(badge.pop())\n",
    "    \n",
    "    return total_priority(group_badges)\n",
    "\n",
    "\n",
    "if __name__ == '__main__':\n",
    "    print(part_one())\n",
    "    print(part_two())"
   ]
  }
 ],
 "metadata": {
  "kernelspec": {
   "display_name": "Python 3.9.13 64-bit (microsoft store)",
   "language": "python",
   "name": "python3"
  },
  "language_info": {
   "codemirror_mode": {
    "name": "ipython",
    "version": 3
   },
   "file_extension": ".py",
   "mimetype": "text/x-python",
   "name": "python",
   "nbconvert_exporter": "python",
   "pygments_lexer": "ipython3",
   "version": "3.9.13"
  },
  "orig_nbformat": 4,
  "vscode": {
   "interpreter": {
    "hash": "888d8669b170ac4f7059dff33f5009fa9a8768c7b85cc7ae59adb194171f3296"
   }
  }
 },
 "nbformat": 4,
 "nbformat_minor": 2
}
