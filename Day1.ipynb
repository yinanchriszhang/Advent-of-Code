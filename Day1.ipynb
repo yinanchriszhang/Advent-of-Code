{
 "cells": [
  {
   "cell_type": "code",
   "execution_count": 1,
   "metadata": {},
   "outputs": [],
   "source": [
    "#Cell to call libraries\n",
    "import pandas as pd"
   ]
  },
  {
   "cell_type": "code",
   "execution_count": 2,
   "metadata": {},
   "outputs": [],
   "source": [
    "class Advent:\n",
    "      \"\"\"\n",
    "      input is the path of the text file which holds the elfs as a text list.  embedded is a cleaning function on the file  \n",
    "      \"\"\"\n",
    "      def __init__(self, data_path = \"Data/input.txt\"):\n",
    "        with open(data_path, \"r\") as input:\n",
    "             items = input.readlines()\n",
    "        input_clean = []\n",
    "        for i in items:\n",
    "             as_list = i.split(\", \")\n",
    "             input_clean.append(as_list[0].replace(\"\\n\",\"\"))\n",
    "        self.data = input_clean\n",
    "     \n",
    "      \"\"\"\n",
    "      getting the calories the elfs are carrying by put in a dataframe where each column is an elf\n",
    "      \"\"\"    \n",
    "      def elfs(self):\n",
    "          elfs = pd.DataFrame()\n",
    "          row = 0\n",
    "          col = 1\n",
    "          for i in self.data:\n",
    "                #print(i)\n",
    "               if i != \"\":\n",
    "                     elfs.loc[row, col] = int(i)\n",
    "                     row +=1    \n",
    "               else :\n",
    "                    col +=1\n",
    "                    row = 0\n",
    "                    #this is to defragment the dataframe\n",
    "                    elfs = elfs.copy()\n",
    "          self.elfs = elfs\n",
    "      \n",
    "      \"\"\"return the number of calories carried by the top n elves\"\"\"\n",
    "      def top_calories(self, n = 1):\n",
    "          return self.elfs.sum().sort_values(ascending = False).head(n)\n"
   ]
  },
  {
   "cell_type": "code",
   "execution_count": 4,
   "metadata": {},
   "outputs": [
    {
     "data": {
      "text/plain": [
       "151    69912.0\n",
       "dtype: float64"
      ]
     },
     "execution_count": 4,
     "metadata": {},
     "output_type": "execute_result"
    }
   ],
   "source": [
    "x = Advent(\"Data/day1_input.txt\")\n",
    "x.elfs()\n",
    "#answer to part 1\n",
    "x.top_calories()"
   ]
  },
  {
   "cell_type": "code",
   "execution_count": 5,
   "metadata": {},
   "outputs": [
    {
     "data": {
      "text/plain": [
       "208180.0"
      ]
     },
     "execution_count": 5,
     "metadata": {},
     "output_type": "execute_result"
    }
   ],
   "source": [
    "#answer to part 2\n",
    "x.top_calories(3).sum()"
   ]
  }
 ],
 "metadata": {
  "kernelspec": {
   "display_name": "Python 3.9.13 64-bit (microsoft store)",
   "language": "python",
   "name": "python3"
  },
  "language_info": {
   "codemirror_mode": {
    "name": "ipython",
    "version": 3
   },
   "file_extension": ".py",
   "mimetype": "text/x-python",
   "name": "python",
   "nbconvert_exporter": "python",
   "pygments_lexer": "ipython3",
   "version": "3.9.13"
  },
  "orig_nbformat": 4,
  "vscode": {
   "interpreter": {
    "hash": "888d8669b170ac4f7059dff33f5009fa9a8768c7b85cc7ae59adb194171f3296"
   }
  }
 },
 "nbformat": 4,
 "nbformat_minor": 2
}
